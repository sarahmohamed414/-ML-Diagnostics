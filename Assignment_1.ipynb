{
 "cells": [
  {
   "cell_type": "markdown",
   "id": "national-spending",
   "metadata": {},
   "source": [
    "## Reading Data ##"
   ]
  },
  {
   "cell_type": "code",
   "execution_count": null,
   "id": "8e2f056e",
   "metadata": {},
   "outputs": [],
   "source": [
    "import numpy as np"
   ]
  },
  {
   "cell_type": "code",
   "execution_count": null,
   "id": "radio-making",
   "metadata": {},
   "outputs": [],
   "source": [
    "import pandas as pd"
   ]
  },
  {
   "cell_type": "code",
   "execution_count": null,
   "id": "drawn-combining",
   "metadata": {},
   "outputs": [],
   "source": [
    "data = pd.read_csv('house_prices_data_training_data.csv')"
   ]
  },
  {
   "cell_type": "code",
   "execution_count": null,
   "id": "regular-ethernet",
   "metadata": {},
   "outputs": [],
   "source": [
    "## dropping NAN values\n",
    "data.dropna(inplace=True)"
   ]
  },
  {
   "cell_type": "code",
   "execution_count": null,
   "id": "iraqi-product",
   "metadata": {},
   "outputs": [],
   "source": [
    "# view top 5 rows\n",
    "data.head()"
   ]
  },
  {
   "cell_type": "markdown",
   "id": "fuzzy-associate",
   "metadata": {},
   "source": [
    "## View Correlation between features and prices ##"
   ]
  },
  {
   "cell_type": "code",
   "execution_count": null,
   "id": "southern-segment",
   "metadata": {},
   "outputs": [],
   "source": [
    "import matplotlib.pyplot as plt\n",
    "import seaborn as sns"
   ]
  },
  {
   "cell_type": "code",
   "execution_count": null,
   "id": "biological-report",
   "metadata": {
    "jupyter": {
     "outputs_hidden": true
    },
    "scrolled": true,
    "tags": []
   },
   "outputs": [],
   "source": [
    "# Plot each column with price to inspect for correlation\n",
    "for c in data.columns:\n",
    "    sns.jointplot(x=c,y='price',data=data)"
   ]
  },
  {
   "cell_type": "code",
   "execution_count": null,
   "id": "unique-settlement",
   "metadata": {},
   "outputs": [],
   "source": [
    "# According to the analysis of the previous graphs we have concluded that the following features are the most influential\n",
    "features = ['bedrooms','bathrooms','sqft_living','floors','view','grade','sqft_above','sqft_basement','yr_built','sqft_living15','price']"
   ]
  },
  {
   "cell_type": "code",
   "execution_count": null,
   "id": "muslim-intersection",
   "metadata": {},
   "outputs": [],
   "source": [
    "newData = data[features]\n",
    "newData"
   ]
  },
  {
   "cell_type": "markdown",
   "id": "comparative-title",
   "metadata": {},
   "source": [
    "## Normalization"
   ]
  },
  {
   "cell_type": "code",
   "execution_count": null,
   "id": "reduced-strip",
   "metadata": {},
   "outputs": [],
   "source": [
    "new_norm_data = (newData - newData.mean(axis=0)) / newData.std(axis=0)\n",
    "new_norm_data"
   ]
  },
  {
   "cell_type": "markdown",
   "id": "nearby-vienna",
   "metadata": {},
   "source": [
    "## Splitting Data ##"
   ]
  },
  {
   "cell_type": "code",
   "execution_count": null,
   "id": "champion-present",
   "metadata": {},
   "outputs": [],
   "source": [
    "Train_X = new_norm_data.sample(frac=0.70).drop('price',axis=1)"
   ]
  },
  {
   "cell_type": "code",
   "execution_count": null,
   "id": "loving-diploma",
   "metadata": {},
   "outputs": [],
   "source": [
    "Train_Y = new_norm_data.iloc[Train_X.index]['price']"
   ]
  },
  {
   "cell_type": "code",
   "execution_count": null,
   "id": "earned-leadership",
   "metadata": {},
   "outputs": [],
   "source": [
    "rem = list(set(np.arange(0,17999)).difference(Train_X.index))"
   ]
  },
  {
   "cell_type": "code",
   "execution_count": null,
   "id": "acoustic-ending",
   "metadata": {},
   "outputs": [],
   "source": [
    "Test_X = new_norm_data.iloc[rem].drop('price',axis=1)"
   ]
  },
  {
   "cell_type": "code",
   "execution_count": null,
   "id": "geographic-identity",
   "metadata": {},
   "outputs": [],
   "source": [
    "Test_Y = new_norm_data.iloc[rem]['price']"
   ]
  },
  {
   "cell_type": "markdown",
   "id": "demanding-class",
   "metadata": {},
   "source": [
    "## linear Regression"
   ]
  },
  {
   "cell_type": "code",
   "execution_count": null,
   "id": "liquid-definition",
   "metadata": {},
   "outputs": [],
   "source": [
    "def hypothesis(X, theta):\n",
    "    y1 = theta*X\n",
    "    return np.sum(y1, axis=1)\n",
    "\n",
    "def cost(X, y, theta):\n",
    "    y1 = hypothesis(X, theta)\n",
    "    return sum(np.sqrt((y1-y)**2))/(2*y.shape[0])\n",
    "\n",
    "def gradientDescent(X, y, theta, alpha, epoch):\n",
    "    J=[]\n",
    "    k=0\n",
    "    while k < epoch:\n",
    "        y1 = hypothesis(X, theta)\n",
    "        for c in range(0, len(X.columns)):\n",
    "            theta[c] = theta[c] - np.true_divide(alpha*sum((y1-y)* X.iloc[:, c]),y.shape[0])\n",
    "        j = cost(X, y, theta)\n",
    "        J.append(j)\n",
    "        k += 1\n",
    "    return J, j, theta"
   ]
  },
  {
   "cell_type": "code",
   "execution_count": null,
   "id": "successful-final",
   "metadata": {},
   "outputs": [],
   "source": [
    "theta = np.array([1.0]*len(Train_X.columns))\n",
    "J, j, theta = gradientDescent(Train_X, Train_Y, theta, 0.05, 700)"
   ]
  },
  {
   "cell_type": "code",
   "execution_count": null,
   "id": "nervous-newport",
   "metadata": {},
   "outputs": [],
   "source": [
    "theta"
   ]
  },
  {
   "cell_type": "code",
   "execution_count": null,
   "id": "moving-region",
   "metadata": {},
   "outputs": [],
   "source": [
    "predictions = np.sum(theta*Test_X, axis=1)"
   ]
  },
  {
   "cell_type": "code",
   "execution_count": null,
   "id": "prepared-ethiopia",
   "metadata": {},
   "outputs": [],
   "source": [
    "MAE_linear = np.mean(np.absolute(predictions - Test_Y))\n",
    "MAE_linear"
   ]
  },
  {
   "cell_type": "markdown",
   "id": "divided-walker",
   "metadata": {},
   "source": [
    "## Polynomial Regression of degree 2"
   ]
  },
  {
   "cell_type": "code",
   "execution_count": null,
   "id": "split-flesh",
   "metadata": {},
   "outputs": [],
   "source": [
    "new_norm_data['bathrooms'] = new_norm_data['bathrooms']**2 "
   ]
  },
  {
   "cell_type": "code",
   "execution_count": null,
   "id": "awful-thunder",
   "metadata": {},
   "outputs": [],
   "source": [
    "new_norm_data"
   ]
  },
  {
   "cell_type": "code",
   "execution_count": null,
   "id": "italian-piece",
   "metadata": {},
   "outputs": [],
   "source": [
    "Train_X = new_norm_data.sample(frac=0.70).drop('price',axis=1)"
   ]
  },
  {
   "cell_type": "code",
   "execution_count": null,
   "id": "severe-think",
   "metadata": {},
   "outputs": [],
   "source": [
    "Train_Y = new_norm_data.iloc[Train_X.index]['price']"
   ]
  },
  {
   "cell_type": "code",
   "execution_count": null,
   "id": "aerial-spread",
   "metadata": {},
   "outputs": [],
   "source": [
    "rem = list(set(np.arange(0,17999)).difference(Train_X.index))"
   ]
  },
  {
   "cell_type": "code",
   "execution_count": null,
   "id": "coated-reset",
   "metadata": {},
   "outputs": [],
   "source": [
    "Test_X = new_norm_data.iloc[rem].drop('price',axis=1)"
   ]
  },
  {
   "cell_type": "code",
   "execution_count": null,
   "id": "overall-ultimate",
   "metadata": {},
   "outputs": [],
   "source": [
    "Test_Y = new_norm_data.iloc[rem]['price']"
   ]
  },
  {
   "cell_type": "code",
   "execution_count": null,
   "id": "difficult-istanbul",
   "metadata": {},
   "outputs": [],
   "source": [
    "theta = np.array([1.0]*len(Train_X.columns))\n",
    "J, j, theta = gradientDescent(Train_X, Train_Y, theta, 0.05, 700)"
   ]
  },
  {
   "cell_type": "code",
   "execution_count": null,
   "id": "traditional-folks",
   "metadata": {},
   "outputs": [],
   "source": [
    "theta"
   ]
  },
  {
   "cell_type": "code",
   "execution_count": null,
   "id": "loaded-wildlife",
   "metadata": {},
   "outputs": [],
   "source": [
    "predictions = np.sum(theta*Test_X, axis=1)"
   ]
  },
  {
   "cell_type": "code",
   "execution_count": null,
   "id": "meaningful-quilt",
   "metadata": {},
   "outputs": [],
   "source": [
    "MAE_degree_2 = np.mean(np.absolute(predictions - Test_Y))\n",
    "MAE_degree_2"
   ]
  },
  {
   "cell_type": "markdown",
   "id": "sweet-serial",
   "metadata": {},
   "source": [
    "## Polynomial Regression of degree 3"
   ]
  },
  {
   "cell_type": "code",
   "execution_count": null,
   "id": "unexpected-pipeline",
   "metadata": {},
   "outputs": [],
   "source": [
    "new_norm_data['sqft_living'] = new_norm_data['sqft_living']**3"
   ]
  },
  {
   "cell_type": "code",
   "execution_count": null,
   "id": "ruled-parallel",
   "metadata": {
    "scrolled": false
   },
   "outputs": [],
   "source": [
    "new_norm_data"
   ]
  },
  {
   "cell_type": "code",
   "execution_count": null,
   "id": "sustained-brain",
   "metadata": {},
   "outputs": [],
   "source": [
    "Train_X = new_norm_data.sample(frac=0.70).drop('price',axis=1)"
   ]
  },
  {
   "cell_type": "code",
   "execution_count": null,
   "id": "approximate-sheffield",
   "metadata": {},
   "outputs": [],
   "source": [
    "Train_Y = new_norm_data.iloc[Train_X.index]['price']"
   ]
  },
  {
   "cell_type": "code",
   "execution_count": null,
   "id": "protected-bosnia",
   "metadata": {},
   "outputs": [],
   "source": [
    "rem = list(set(np.arange(0,17999)).difference(Train_X.index))"
   ]
  },
  {
   "cell_type": "code",
   "execution_count": null,
   "id": "satisfactory-prerequisite",
   "metadata": {},
   "outputs": [],
   "source": [
    "Test_X = new_norm_data.iloc[rem].drop('price',axis=1)"
   ]
  },
  {
   "cell_type": "code",
   "execution_count": null,
   "id": "technical-upset",
   "metadata": {},
   "outputs": [],
   "source": [
    "Test_Y = new_norm_data.iloc[rem]['price']"
   ]
  },
  {
   "cell_type": "code",
   "execution_count": null,
   "id": "global-programmer",
   "metadata": {},
   "outputs": [],
   "source": [
    "theta = np.array([1.0]*len(Train_X.columns))\n",
    "J, j, theta = gradientDescent(Train_X, Train_Y, theta, 0.05, 700)"
   ]
  },
  {
   "cell_type": "code",
   "execution_count": null,
   "id": "consistent-order",
   "metadata": {},
   "outputs": [],
   "source": [
    "theta"
   ]
  },
  {
   "cell_type": "code",
   "execution_count": null,
   "id": "infrared-aberdeen",
   "metadata": {},
   "outputs": [],
   "source": [
    "predictions = np.sum(theta*Test_X, axis=1)"
   ]
  },
  {
   "cell_type": "code",
   "execution_count": null,
   "id": "minute-nylon",
   "metadata": {},
   "outputs": [],
   "source": [
    "MAE_degree_2_3 = np.mean(np.absolute(predictions - Test_Y))\n",
    "MAE_degree_2_3"
   ]
  },
  {
   "cell_type": "markdown",
   "id": "9ed4ecf4",
   "metadata": {},
   "source": [
    "## Polynomial Regression of degree 4"
   ]
  },
  {
   "cell_type": "code",
   "execution_count": null,
   "id": "db5b807e",
   "metadata": {},
   "outputs": [],
   "source": [
    "new_norm_data['sqft_living'] = new_norm_data['sqft_living']**4"
   ]
  },
  {
   "cell_type": "code",
   "execution_count": null,
   "id": "f35ecd15",
   "metadata": {},
   "outputs": [],
   "source": [
    "new_norm_data"
   ]
  },
  {
   "cell_type": "code",
   "execution_count": null,
   "id": "34ea93e9",
   "metadata": {},
   "outputs": [],
   "source": [
    "Train_X = new_norm_data.sample(frac=0.70).drop('price',axis=1)"
   ]
  },
  {
   "cell_type": "code",
   "execution_count": null,
   "id": "f41d9fd2",
   "metadata": {},
   "outputs": [],
   "source": [
    "Train_Y = new_norm_data.iloc[Train_X.index]['price']"
   ]
  },
  {
   "cell_type": "code",
   "execution_count": null,
   "id": "4d640172",
   "metadata": {},
   "outputs": [],
   "source": [
    "rem = list(set(np.arange(0,17999)).difference(Train_X.index))"
   ]
  },
  {
   "cell_type": "code",
   "execution_count": null,
   "id": "ab6ff34d",
   "metadata": {},
   "outputs": [],
   "source": [
    "Test_X = new_norm_data.iloc[rem].drop('price',axis=1)"
   ]
  },
  {
   "cell_type": "code",
   "execution_count": null,
   "id": "22ccc7e5",
   "metadata": {},
   "outputs": [],
   "source": [
    "Test_Y = new_norm_data.iloc[rem]['price']"
   ]
  },
  {
   "cell_type": "code",
   "execution_count": null,
   "id": "72b6e822",
   "metadata": {},
   "outputs": [],
   "source": [
    "theta = np.array([1.0]*len(Train_X.columns))\n",
    "J, j, theta = gradientDescent(Train_X, Train_Y, theta, 0.05, 700)"
   ]
  },
  {
   "cell_type": "code",
   "execution_count": null,
   "id": "d39a4d8f",
   "metadata": {},
   "outputs": [],
   "source": [
    "theta"
   ]
  },
  {
   "cell_type": "code",
   "execution_count": null,
   "id": "278dadc0",
   "metadata": {},
   "outputs": [],
   "source": [
    "predictions = np.sum(theta*Test_X, axis=1)"
   ]
  },
  {
   "cell_type": "code",
   "execution_count": null,
   "id": "c36f35f8",
   "metadata": {},
   "outputs": [],
   "source": [
    "MAE_degree_2_3_4 = np.mean(np.absolute(predictions - Test_Y))\n",
    "MAE_degree_2_3_4"
   ]
  },
  {
   "cell_type": "markdown",
   "id": "eefa7742",
   "metadata": {},
   "source": []
  },
  {
   "cell_type": "code",
   "execution_count": null,
   "id": "57b29d2e",
   "metadata": {},
   "outputs": [],
   "source": []
  },
  {
   "cell_type": "markdown",
   "id": "fbddbe53",
   "metadata": {},
   "source": [
    "# Polynomial Regression of degree 5"
   ]
  },
  {
   "cell_type": "code",
   "execution_count": null,
   "id": "6e62f31a",
   "metadata": {},
   "outputs": [],
   "source": [
    "new_norm_data['sqft_living'] = new_norm_data['sqft_living']**5"
   ]
  },
  {
   "cell_type": "code",
   "execution_count": null,
   "id": "7b93e291",
   "metadata": {},
   "outputs": [],
   "source": [
    "new_norm_data"
   ]
  },
  {
   "cell_type": "code",
   "execution_count": null,
   "id": "c32a530f",
   "metadata": {},
   "outputs": [],
   "source": [
    "Train_X = new_norm_data.sample(frac=0.70).drop('price',axis=1)"
   ]
  },
  {
   "cell_type": "code",
   "execution_count": null,
   "id": "1b9b939b",
   "metadata": {},
   "outputs": [],
   "source": [
    "Train_Y = new_norm_data.iloc[Train_X.index]['price']"
   ]
  },
  {
   "cell_type": "code",
   "execution_count": null,
   "id": "bb30ebd5",
   "metadata": {},
   "outputs": [],
   "source": [
    "rem = list(set(np.arange(0,17999)).difference(Train_X.index))"
   ]
  },
  {
   "cell_type": "code",
   "execution_count": null,
   "id": "cb07fa14",
   "metadata": {},
   "outputs": [],
   "source": [
    "Test_X = new_norm_data.iloc[rem].drop('price',axis=1)"
   ]
  },
  {
   "cell_type": "code",
   "execution_count": null,
   "id": "0b5ad18f",
   "metadata": {},
   "outputs": [],
   "source": [
    "Test_Y = new_norm_data.iloc[rem]['price']"
   ]
  },
  {
   "cell_type": "code",
   "execution_count": null,
   "id": "eed89d42",
   "metadata": {},
   "outputs": [],
   "source": [
    "theta = np.array([1.0]*len(Train_X.columns))\n",
    "J, j, theta = gradientDescent(Train_X, Train_Y, theta, 0.05, 700)"
   ]
  },
  {
   "cell_type": "code",
   "execution_count": null,
   "id": "42a0bcd8",
   "metadata": {},
   "outputs": [],
   "source": [
    "theta"
   ]
  },
  {
   "cell_type": "code",
   "execution_count": null,
   "id": "3d815147",
   "metadata": {},
   "outputs": [],
   "source": [
    "predictions = np.sum(theta*Test_X, axis=1)"
   ]
  },
  {
   "cell_type": "code",
   "execution_count": null,
   "id": "92e75544",
   "metadata": {},
   "outputs": [],
   "source": [
    "MAE_degree_2_3_4_5 = np.mean(np.absolute(predictions - Test_Y))\n",
    "MAE_degree_2_3_4_5"
   ]
  },
  {
   "cell_type": "code",
   "execution_count": null,
   "id": "4aa3a135",
   "metadata": {},
   "outputs": [],
   "source": [
    "X= [1,2,3,4,5]\n",
    "Y=[MAE_linear, MAE_degree_2, MAE_degree_2_3, MAE_degree_2_3_4, MAE_degree_2_3_4_5]"
   ]
  },
  {
   "cell_type": "code",
   "execution_count": 79,
   "id": "bc74f1d6",
   "metadata": {},
   "outputs": [
    {
     "data": {
      "text/plain": [
       "[<matplotlib.lines.Line2D at 0x22c03c568b0>]"
      ]
     },
     "execution_count": 79,
     "metadata": {},
     "output_type": "execute_result"
    },
    {
     "data": {
      "image/png": "[encoded data removed]",
      "text/plain": [
       "<Figure size 432x288 with 1 Axes>"
      ]
     },
     "metadata": {
      "needs_background": "light"
     },
     "output_type": "display_data"
    }
   ],
   "source": [
    "import matplotlib.pyplot as plt\n",
    "plt.xlabel('Meansqr error values')\n",
    "plt.ylabel('degree of polynomial')\n",
    "plt.plot(X,Y)\n"
   ]
  },
  {
   "cell_type": "code",
   "execution_count": null,
   "id": "d0229fe2",
   "metadata": {},
   "outputs": [],
   "source": []
  }
 ],
 "metadata": {
  "kernelspec": {
   "display_name": "Python 3",
   "language": "python",
   "name": "python3"
  },
  "language_info": {
   "codemirror_mode": {
    "name": "ipython",
    "version": 3
   },
   "file_extension": ".py",
   "mimetype": "text/x-python",
   "name": "python",
   "nbconvert_exporter": "python",
   "pygments_lexer": "ipython3",
   "version": "3.8.6"
  }
 },
 "nbformat": 4,
 "nbformat_minor": 5
}
